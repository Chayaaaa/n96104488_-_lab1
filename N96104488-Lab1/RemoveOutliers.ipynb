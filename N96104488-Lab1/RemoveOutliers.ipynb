{
 "cells": [
  {
   "cell_type": "code",
   "execution_count": 5,
   "id": "0c295f13",
   "metadata": {},
   "outputs": [
    {
     "name": "stdout",
     "output_type": "stream",
     "text": [
      "Enter the number of smallest and largest values to remove:1\n",
      "Enter a value (Q to quit):2\n",
      "Enter a value (Q to quit):3\n",
      "Enter a value (Q to quit):4\n",
      "Enter a value (Q to quit):5\n",
      "Enter a value (Q to quit):6\n",
      "Enter a value (Q to quit):7\n",
      "Enter a value (Q to quit):8\n",
      "Enter a value (Q to quit):9\n",
      "Enter a value (Q to quit):q\n",
      "The original data: [2, 3, 4, 5, 6, 7, 8, 9]\n",
      "The data with the outliers removed: [3, 4, 5, 6, 7, 8]\n",
      "The outliers: [2, 9]\n"
     ]
    }
   ],
   "source": [
    "def remove_outliers(remove):\n",
    "    list = []#建立空白清單\n",
    "    while True:\n",
    "        value = str(input(\"Enter a value (Q to quit):\"))#輸入數值\n",
    "        if (value == 'Q' or value =='q'):#給定停止輸入指令\n",
    "            break\n",
    "        else:\n",
    "            list.append(int(value))\n",
    "    print(\"The original data:\",list) #輸出原始數字\n",
    "    list.sort()  #排列原始數字\n",
    "    max = list[-remove:]#選取最大值\n",
    "    min = list[:remove]#選取最小值\n",
    "    data = list[remove:-remove]#選取剩餘數值\n",
    "    print(\"The data with the outliers removed:\",data)\n",
    "    print(\"The outliers:\",min+max)         \n",
    "                       \n",
    "remove = int(input(\"Enter the number of smallest and largest values to remove:\"))#建立移除數量(限制為數字)\n",
    "remove_outliers(remove)\n",
    "\n",
    "\n",
    "        \n",
    "\n"
   ]
  }
 ],
 "metadata": {
  "kernelspec": {
   "display_name": "Python 3",
   "language": "python",
   "name": "python3"
  },
  "language_info": {
   "codemirror_mode": {
    "name": "ipython",
    "version": 3
   },
   "file_extension": ".py",
   "mimetype": "text/x-python",
   "name": "python",
   "nbconvert_exporter": "python",
   "pygments_lexer": "ipython3",
   "version": "3.8.8"
  }
 },
 "nbformat": 4,
 "nbformat_minor": 5
}
