{
 "cells": [
  {
   "cell_type": "code",
   "execution_count": 20,
   "id": "abb87866",
   "metadata": {},
   "outputs": [
    {
     "name": "stdout",
     "output_type": "stream",
     "text": [
      "Welcome to ROCK, PAPER, SCISSORS game!\n",
      "Enter your move:(r)ock (p)aper (s)cissorsr\n",
      "you :  r\n",
      "computer :  p\n",
      "You lose!\n",
      "Enter your move:(r)ock (p)aper (s)cissorsr\n",
      "you :  r\n",
      "computer :  s\n",
      "You win!\n",
      "You have 0 ties and 1 losses before your first win.\n"
     ]
    }
   ],
   "source": [
    "import random\n",
    "import string\n",
    "print ('Welcome to ROCK, PAPER, SCISSORS game!')\n",
    "\n",
    "#遊戲計數初始值\n",
    "ties_num = 0\n",
    "lose_num = 0\n",
    "\n",
    "while True:\n",
    "\n",
    "    player = input(\"Enter your move:(r)ock (p)aper (s)cissors\") #給定輸入\n",
    "    computer = random.choice(['r','p','s']) #電腦隨機出拳\n",
    "\n",
    "\n",
    "#猜拳輸贏判定\n",
    "    if (player == 'r'):\n",
    "        if(computer == 'r'):\n",
    "            print(\"you : \",player)\n",
    "            print(\"computer : \",computer)\n",
    "            print(\"It is a tie!\")\n",
    "            ties_num += 1\n",
    "        elif(computer == 'p'):\n",
    "            print(\"you : \",player)\n",
    "            print(\"computer : \",computer)\n",
    "            print(\"You lose!\")\n",
    "            lose_num += 1\n",
    "        else:\n",
    "            print(\"you : \",player)\n",
    "            print(\"computer : \",computer)\n",
    "            print(\"You win!\")\n",
    "            print(\"You have\",ties_num,\"ties and\",lose_num,\"losses before your first win.\")\n",
    "            break\n",
    "        \n",
    "    if (player == 'p'):\n",
    "        if(computer == 'p'):\n",
    "            print(\"you : \",player)\n",
    "            print(\"computer : \",computer)\n",
    "            print(\"It is a tie!\")\n",
    "            ties_num += 1\n",
    "        elif(computer == 's'):\n",
    "            print(\"you : \",player)\n",
    "            print(\"computer : \",computer)\n",
    "            print(\"You lose!\")\n",
    "            lose_num += 1\n",
    "        else:\n",
    "            print(\"you : \",player)\n",
    "            print(\"computer : \",computer)\n",
    "            print(\"You win!\")\n",
    "            print(\"You have\",ties_num,\"ties and\",lose_num,\"losses before your first win.\")\n",
    "            break\n",
    "        \n",
    "    if (player == 's'):\n",
    "        if(computer == 's'):\n",
    "            print(\"you : \",player)\n",
    "            print(\"computer : \",computer)\n",
    "            print(\"It is a tie!\")\n",
    "            ties_num += 1\n",
    "        elif(computer == 'r'):\n",
    "            print(\"you : \",player)\n",
    "            print(\"computer : \",computer)\n",
    "            print(\"You lose!\")\n",
    "            lose_num += 1\n",
    "        else:\n",
    "            print(\"you : \",player)\n",
    "            print(\"computer : \",computer)\n",
    "            print(\"You win!\")\n",
    "            print(\"You have\",ties_num,\"ties and\",lose_num,\"losses before your first win.\")\n",
    "            break\n",
    "\n",
    "\n"
   ]
  },
  {
   "cell_type": "raw",
   "id": "189804ae",
   "metadata": {},
   "source": [
    "computer = random.choice('rps')\n"
   ]
  },
  {
   "cell_type": "code",
   "execution_count": null,
   "id": "b01ee248",
   "metadata": {},
   "outputs": [],
   "source": []
  }
 ],
 "metadata": {
  "kernelspec": {
   "display_name": "Python 3",
   "language": "python",
   "name": "python3"
  },
  "language_info": {
   "codemirror_mode": {
    "name": "ipython",
    "version": 3
   },
   "file_extension": ".py",
   "mimetype": "text/x-python",
   "name": "python",
   "nbconvert_exporter": "python",
   "pygments_lexer": "ipython3",
   "version": "3.8.8"
  }
 },
 "nbformat": 4,
 "nbformat_minor": 5
}
